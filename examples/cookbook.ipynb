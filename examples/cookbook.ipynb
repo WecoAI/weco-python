{
 "cells": [
  {
   "cell_type": "markdown",
   "metadata": {},
   "source": [
    "<div align=\"center\" style=\"display: flex; align-items: center; justify-content: left;\">\n",
    "  <img src=\"../assets/weco.svg\" alt=\"WeCo AI\" style=\"height: 50px; margin-right: 10px;\">\n",
    "  <a href=\"https://git.io/typing-svg\"><img src=\"https://readme-typing-svg.demolab.com?font=Georgia&size=32&duration=4000&pause=400&color=FD4578&vCenter=true&multiline=false&width=750&height=100&lines=AI+Function+Builder;\" alt=\"Typing SVG\" /></a>\n",
    "</div>"
   ]
  },
  {
   "cell_type": "markdown",
   "metadata": {},
   "source": [
    "## Getting Started"
   ]
  },
  {
   "cell_type": "markdown",
   "metadata": {},
   "source": [
    "`weco` is a client facing API for interacting with the [WeCo AI](https://www.weco.ai/) function builder [service](https://weco-app.vercel.app/function). Use this API to build *complex* systems *fast* $f$(👷‍♂️)!\n",
    "\n",
    "Here's a short introduction to how you can use our client. Feel free to follow along:\n",
    "\n",
    "<a href=\"https://colab.research.google.com/github/WecoAI/weco-python/blob/main/examples/cookbook.ipynb\" target=\"_parent\"><img src=\"https://colab.research.google.com/assets/colab-badge.svg\" alt=\"Open In Colab\"/></a>\n",
    "<a target=\"_blank\" href=\"https://lightning.ai/new?repo_url=https%3A%2F%2Fgithub.com%2FWecoAI%2Fweco-python%2Fblob%2Fmain%2Fexamples%2Fcookbook.ipynb\"><img src=\"https://pl-bolts-doc-images.s3.us-east-2.amazonaws.com/app-2/studio-badge.svg\" alt=\"Open in Studio\" width=100 height=20/></a>"
   ]
  },
  {
   "cell_type": "markdown",
   "metadata": {},
   "source": [
    "Install the `weco` package in your terminal of choice:"
   ]
  },
  {
   "cell_type": "code",
   "execution_count": null,
   "metadata": {},
   "outputs": [],
   "source": [
    "%pip install weco"
   ]
  },
  {
   "cell_type": "markdown",
   "metadata": {},
   "source": [
    "Export your API key which can be found [here](https://weco-app.vercel.app/account)."
   ]
  },
  {
   "cell_type": "code",
   "execution_count": null,
   "metadata": {},
   "outputs": [],
   "source": [
    "%env WECO_API_KEY=<YOUR_WECO_API_KEY>"
   ]
  },
  {
   "cell_type": "markdown",
   "metadata": {},
   "source": [
    "You can build powerful AI functions for complex tasks quickly and without friction. For example, you can create a function in the [web console](https://weco-app.vercel.app/function) with this description:\n",
    "\n",
    "> \"Analyze a business idea and provide a structured evaluation. Output a JSON with 'viability_score' (0-100), 'strengths' (list), 'weaknesses' (list), and 'next_steps' (list).\"\n",
    "\n",
    "Once created, you can query this function anywhere in your code with just a few lines:"
   ]
  },
  {
   "cell_type": "code",
   "execution_count": null,
   "metadata": {},
   "outputs": [],
   "source": [
    "from weco import query\n",
    "\n",
    "response = query(\n",
    "    fn_name=\"BusinessIdeaAnalyzer-XYZ123\",  # Replace with your actual function name\n",
    "    text_input=\"A subscription service for personalized, AI-generated bedtime stories for children.\"\n",
    ")\n",
    "\n",
    "print(response)"
   ]
  },
  {
   "cell_type": "markdown",
   "metadata": {},
   "source": [
    "## Multimodality"
   ]
  },
  {
   "cell_type": "markdown",
   "metadata": {},
   "source": [
    "Our AI functions can interpret complex visual information, follow instructions in natural language and provide practical insights. Let's explore how we can all have a chef give us personalized advice! They can look at the food we have and offer recipe suggestions even providing nutritional information.\n",
    "As shown in the example above, you can provde the image input in various ways such as:\n",
    "1. Base64 encoding\n",
    "3. Public URL\n",
    "4. Local Path"
   ]
  },
  {
   "cell_type": "code",
   "execution_count": null,
   "metadata": {},
   "outputs": [],
   "source": [
    "from weco import build, query\n",
    "import base64\n",
    "\n",
    "task_description = \"\"\"\n",
    "Create a personalized chef that can analyze food images, identify ingredients that we have \n",
    "and offer recipe suggestions with nutritional information.\n",
    "The chef must be able to provide us with:\n",
    "    - 'ingredients_present': list of ingredients we have\n",
    "    - 'recipe_suggestion': a suitable recipe based on the ingredients present\n",
    "    - 'nutritional_info': basic nutritional breakdown of the suggested recipe\n",
    "\"\"\"\n",
    "\n",
    "fn_name, _ = build(task_description=task_description)\n",
    "\n",
    "request = \"\"\"\n",
    "I want to cook a healthy dinner. Can you identify the ingredients in these images,\n",
    "suggest a recipe, and provide nutritional information?\n",
    "\"\"\"\n",
    "\n",
    "# Base64 encoded image\n",
    "with open(\"my_fridge.jpg\", \"rb\") as img_file:\n",
    "    inside_my_fridge = base64.b64encode(img_file.read()).decode('utf-8')\n",
    "\n",
    "response = query(\n",
    "    fn_name=fn_name,\n",
    "    text_input=request,\n",
    "    images_input=[\n",
    "        \"https://example.com/farmers_market_items.jpg\",  # Public URL\n",
    "        f\"data:image/jpeg;base64,{inside_my_fridge}\",    # Base64 encoding\n",
    "        \"pantry_items.png\"                               # Local image\n",
    "    ]\n",
    ")\n",
    "\n",
    "print(response)"
   ]
  },
  {
   "cell_type": "markdown",
   "metadata": {},
   "source": [
    "## Running Example"
   ]
  },
  {
   "cell_type": "markdown",
   "metadata": {},
   "source": [
    "Consider the previous example of:\n",
    "> \"I want to evaluate the feasibility of a machine learning task. Help me understand this through - 'feasibility', 'justification', and 'suggestions'.\"\n",
    "\n",
    "Here's how you can take advantage of our API to best suit your needs."
   ]
  },
  {
   "cell_type": "code",
   "execution_count": null,
   "metadata": {},
   "outputs": [],
   "source": [
    "task_description = \"I want to evaluate the feasibility of a machine learning task. Give me a json object with three keys - 'feasibility', 'justification', and 'suggestions'.\""
   ]
  },
  {
   "cell_type": "markdown",
   "metadata": {},
   "source": [
    "## Dense vs. Sparse Usage"
   ]
  },
  {
   "cell_type": "markdown",
   "metadata": {},
   "source": [
    "Though we recommend building functions in the [web console](https://weco-app.vercel.app/function) for maximum control over the function I/O, you can also do this programmatically:"
   ]
  },
  {
   "cell_type": "code",
   "execution_count": null,
   "metadata": {},
   "outputs": [],
   "source": [
    "from weco import build, query\n",
    "\n",
    "# Describe the task you want the function to perform\n",
    "fn_name, fn_desc = build(task_description=task_description)\n",
    "print(f\"AI Function {fn_name} built. This does the following - \\n{fn_desc}.\")\n",
    "\n",
    "# Query the function with a specific input\n",
    "query_response = query(\n",
    "    fn_name=fn_name,\n",
    "    text_input=\"I want to train a model to predict house prices using the Boston Housing dataset hosted on Kaggle.\"\n",
    ")\n",
    "for key, value in query_response.items(): print(f\"{key}: {value}\")"
   ]
  },
  {
   "cell_type": "markdown",
   "metadata": {},
   "source": [
    "We recommend to use the `weco.build` and `weco.query` when you want to build or query LLM functions sparsely, i.e., you **don't** call `weco.build` or `weco.query` in many places within your code. However, for more dense usage, we've found users prefer our `weco.WecoAI` client instance. Its easy to switch between the two as shown below:"
   ]
  },
  {
   "cell_type": "code",
   "execution_count": null,
   "metadata": {},
   "outputs": [],
   "source": [
    "from weco import WecoAI\n",
    "\n",
    "# Connect to our service, using our client\n",
    "client = WecoAI()\n",
    "\n",
    "# Make the same query as before\n",
    "query_response = client.query(\n",
    "    fn_name=fn_name,\n",
    "    text_input=\"I want to train a model to predict house prices using the Boston Housing dataset hosted on Kaggle.\"\n",
    ")\n",
    "for key, value in query_response.items(): print(f\"{key}: {value}\")"
   ]
  },
  {
   "cell_type": "markdown",
   "metadata": {},
   "source": [
    "## Batching"
   ]
  },
  {
   "cell_type": "markdown",
   "metadata": {},
   "source": [
    "We understand that sometimes, independent of how many times in your code you call `weco` functions, you want to submit a large batch of requests for the same or different LLM functions you've created. This can be done in the following ways:"
   ]
  },
  {
   "cell_type": "code",
   "execution_count": null,
   "metadata": {},
   "outputs": [],
   "source": [
    "from weco import batch_query\n",
    "\n",
    "# Query the same function with multiple inputs by batching them for maximum efficiency\n",
    "input_1 = {\"text_input\": \"I want to train a model to predict house prices using the Boston Housing dataset hosted on Kaggle.\"}\n",
    "input_2 = {\n",
    "    \"text_input\": \"I want to train a model to classify digits using the MNIST dataset hosted on Kaggle using a Google Colab notebook. Attached is an example of what some of the digits would look like.\",\n",
    "    \"images_input\": [\"https://machinelearningmastery.com/wp-content/uploads/2019/02/Plot-of-a-Subset-of-Images-from-the-MNIST-Dataset-1024x768.png\"]\n",
    "}\n",
    "query_responses = batch_query(\n",
    "    fn_names=fn_name,\n",
    "    batch_inputs=[input_1, input_2]\n",
    ")"
   ]
  },
  {
   "cell_type": "markdown",
   "metadata": {},
   "source": [
    "You can do the same using the `weco.WecoAI` client. If you wanted to batch different functions, you can pass a list of function names to the `batch_query()` function. Note that the names of functions would need to be ordered the same as the function inputs provided.\n",
    "\n",
    "In addition, `weco.batch_query` takes the input batch as an array of individual inputs formatted in the following way -\n",
    "```json\n",
    "{\n",
    "    \"text_input\": \"Your text input\",\n",
    "    \"images_input\": [\"image1\", \"image2\"]\n",
    "}\n",
    "```"
   ]
  },
  {
   "cell_type": "markdown",
   "metadata": {},
   "source": [
    "## Async Calls"
   ]
  },
  {
   "cell_type": "markdown",
   "metadata": {},
   "source": [
    "Until now you've been making synchronous calls to our client by we also support asynchronous programmers. This is actually how we implement batching! You can also make asynchronous calls to our service using our `weco.WecoAI` client or as shown below for the same example as before:"
   ]
  },
  {
   "cell_type": "code",
   "execution_count": null,
   "metadata": {},
   "outputs": [],
   "source": [
    "from weco import abuild, aquery\n",
    "\n",
    "# Describe the task you want the function to perform\n",
    "fn_name, fn_desc = await abuild(task_description=task_description)\n",
    "print(f\"AI Function {fn_name} built. This does the following - \\n{fn_desc}.\")\n",
    "\n",
    "# Query the function with a specific input\n",
    "query_response = await aquery(\n",
    "    fn_name=fn_name,\n",
    "    text_input=\"I want to train a model to predict house prices using the Boston Housing dataset hosted on Kaggle.\"\n",
    ")\n",
    "for key, value in query_response.items(): print(f\"{key}: {value}\")"
   ]
  },
  {
   "cell_type": "markdown",
   "metadata": {},
   "source": [
    "## Happy Building $f$(👷‍♂️)!"
   ]
  }
 ],
 "metadata": {
  "kernelspec": {
   "display_name": "weco",
   "language": "python",
   "name": "python3"
  },
  "language_info": {
   "codemirror_mode": {
    "name": "ipython",
    "version": 3
   },
   "file_extension": ".py",
   "mimetype": "text/x-python",
   "name": "python",
   "nbconvert_exporter": "python",
   "pygments_lexer": "ipython3",
   "version": "3.10.14"
  }
 },
 "nbformat": 4,
 "nbformat_minor": 2
}
