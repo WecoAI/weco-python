{
 "cells": [
  {
   "cell_type": "markdown",
   "metadata": {},
   "source": [
    "<div align=\"center\" style=\"display: flex; align-items: center; justify-content: left;\">\n",
    "  <img src=\"../assets/weco.svg\" alt=\"WeCo AI\" style=\"height: 50px; margin-right: 10px;\">\n",
    "  <a href=\"https://git.io/typing-svg\"><img src=\"https://readme-typing-svg.demolab.com?font=Georgia&size=32&duration=4000&pause=400&color=FD4578&vCenter=true&multiline=false&width=750&height=100&lines=AI+Function+Builder;\" alt=\"Typing SVG\" /></a>\n",
    "</div>"
   ]
  },
  {
   "cell_type": "markdown",
   "metadata": {},
   "source": [
    "## Getting Started"
   ]
  },
  {
   "cell_type": "markdown",
   "metadata": {},
   "source": [
    "`weco` is a client facing API for interacting with the [WeCo AI](https://www.weco.ai/) function builder [service](https://weco-app.vercel.app/function). Use this API to build *complex* systems *fast* $f$(👷‍♂️)!\n",
    "\n",
    "Here's a short introduction to how you can use our client. Feel free to follow along:\n",
    "\n",
    "<a href=\"https://colab.research.google.com/github/WecoAI/weco-python/blob/main/examples/cookbook.ipynb\" target=\"_parent\"><img src=\"https://colab.research.google.com/assets/colab-badge.svg\" alt=\"Open In Colab\"/></a>\n",
    "<a target=\"_blank\" href=\"https://lightning.ai/new?repo_url=https%3A%2F%2Fgithub.com%2FWecoAI%2Fweco-python%2Fblob%2Fmain%2Fexamples%2Fcookbook.ipynb\"><img src=\"https://pl-bolts-doc-images.s3.us-east-2.amazonaws.com/app-2/studio-badge.svg\" alt=\"Open in Studio\" width=100 height=20/></a>"
   ]
  },
  {
   "cell_type": "markdown",
   "metadata": {},
   "source": [
    "Install the `weco` package in your terminal of choice:"
   ]
  },
  {
   "cell_type": "code",
   "execution_count": null,
   "metadata": {},
   "outputs": [],
   "source": [
    "%pip install weco"
   ]
  },
  {
   "cell_type": "markdown",
   "metadata": {},
   "source": [
    "You will need to export your API key which can be found [here](https://weco-app.vercel.app/account)."
   ]
  },
  {
   "cell_type": "code",
   "execution_count": null,
   "metadata": {},
   "outputs": [],
   "source": [
    "%env WECO_API_KEY=<YOUR_WECO_API_KEY>"
   ]
  },
  {
   "cell_type": "markdown",
   "metadata": {},
   "source": [
    "You can build functions for complex systems quickly and without friction in just a few lines of code...For example you can create a function for the following task in the [web console](https://weco-app.vercel.app/function): \n",
    "\n",
    "> \"I want to evaluate the feasibility of a machine learning task. Give me a json object with three keys - 'feasibility', 'justification', and 'suggestions'.\"\n",
    "\n",
    "Now, you're ready to query this function anywhere in your code!"
   ]
  },
  {
   "cell_type": "code",
   "execution_count": null,
   "metadata": {},
   "outputs": [],
   "source": [
    "from weco import query\n",
    "response = query(\n",
    "    fn_name=<YOUR_FUNCTION_NAME>,\n",
    "    fn_input=\"I want to train a model to predict house prices using the Boston Housing dataset hosted on Kaggle.\",\n",
    ")"
   ]
  },
  {
   "cell_type": "markdown",
   "metadata": {},
   "source": [
    "## Dense vs. Sparse Usage"
   ]
  },
  {
   "cell_type": "markdown",
   "metadata": {},
   "source": [
    "Though we recommend building functions in the [web console](https://weco-app.vercel.app/function) for maximum control over the function I/O, you can also do this programmatically:"
   ]
  },
  {
   "cell_type": "code",
   "execution_count": null,
   "metadata": {},
   "outputs": [],
   "source": [
    "from weco import build, query\n",
    "\n",
    "# Describe the task you want the function to perform\n",
    "fn_name, fn_desc = build(\n",
    "    task_description=\"I want to evaluate the feasibility of a machine learning task. Give me a json object with three keys - 'feasibility', 'justification', and 'suggestions'.\",\n",
    ")\n",
    "print(f\"Model Name: {fn_name}\\nModel Description:\\n{fn_desc}\")\n",
    "\n",
    "# Query the function with a specific input\n",
    "query_response = query(\n",
    "    fn_name=fn_name,\n",
    "    fn_input=\"I want to train a model to predict house prices using the Boston Housing dataset hosted on Kaggle.\",\n",
    ")\n",
    "for key, value in query_response.items(): print(f\"{key}: {value}\")"
   ]
  },
  {
   "cell_type": "markdown",
   "metadata": {},
   "source": [
    "We recommend to use the `weco.build` and `weco.query` when you want to build or query LLM functions sparsely, i.e., you **don't** call `weco.build` or `weco.query` in many places within your code. However, for more dense usage, we've found users prefer our `weco.WecoAI` client instance. Its easy to switch between the two as shown below:"
   ]
  },
  {
   "cell_type": "code",
   "execution_count": null,
   "metadata": {},
   "outputs": [],
   "source": [
    "from weco import WecoAI\n",
    "\n",
    "client = WecoAI()\n",
    "\n",
    "# Describe the task you want the function to perform\n",
    "fn_name, fn_desc = client.build(\n",
    "    task_description=\"I want to evaluate the feasibility of a machine learning task. Give me a json object with three keys - 'feasibility', 'justification', and 'suggestions'.\"\n",
    ")\n",
    "print(f\"Model Name: {fn_name}\\nModel Description:\\n{fn_desc}\")\n",
    "\n",
    "# Query the function with a specific input\n",
    "query_response = client.query(\n",
    "    fn_name=fn_name,\n",
    "    fn_input=\"I want to train a model to predict house prices using the Boston Housing dataset hosted on Kaggle.\",\n",
    ")\n",
    "for key, value in query_response.items(): print(f\"{key}: {value}\")"
   ]
  },
  {
   "cell_type": "markdown",
   "metadata": {},
   "source": [
    "## Batching"
   ]
  },
  {
   "cell_type": "markdown",
   "metadata": {},
   "source": [
    "We understand that sometimes, independent of how many times in your code you call `weco` functions, you want to submit a large batch of requests for the same or different LLM functions you've created. This can be done in the following ways:"
   ]
  },
  {
   "cell_type": "code",
   "execution_count": null,
   "metadata": {},
   "outputs": [],
   "source": [
    "from weco import batch_query\n",
    "\n",
    "# Query the same function with multiple inputs by batching them for maximum efficiency\n",
    "query_responses = batch_query(\n",
    "    fn_names=YOUR_FUNCTION_NAME,  # The name of the function we built in the previous step\n",
    "    batch_inputs=[\n",
    "        \"I want to train a model to predict house prices using the Boston Housing dataset hosted on Kaggle.\",\n",
    "        \"I want to train a model to classify digits using the MNIST dataset hosted on Kaggle using a Google Colab notebook.\",\n",
    "    ],\n",
    ")"
   ]
  },
  {
   "cell_type": "markdown",
   "metadata": {},
   "source": [
    "You can do the same using the `weco.WecoAI` client. If you wanted to batch different functions, you can pass a list of function names to the `batch_query()` function. Note that the names of functions would need to be ordered the same as the function inputs provided."
   ]
  },
  {
   "cell_type": "markdown",
   "metadata": {},
   "source": [
    "## Async Calls"
   ]
  },
  {
   "cell_type": "markdown",
   "metadata": {},
   "source": [
    "Until now you've been making synchronous calls to our client by we also support asynchronous programmers. This is actually how we implement batching! You can also make asynchronous calls to our service using our `weco.WecoAI` client or as shown below:"
   ]
  },
  {
   "cell_type": "code",
   "execution_count": null,
   "metadata": {},
   "outputs": [],
   "source": [
    "from weco import abuild, aquery\n",
    "\n",
    "# Describe the task you want the function to perform\n",
    "fn_name, fn_desc = await abuild(\n",
    "    task_description=\"I want to evaluate the feasibility of a machine learning task. Give me a json object with three keys - 'feasibility', 'justification', and 'suggestions'.\",\n",
    ")\n",
    "print(f\"Model Name: {fn_name}\\nModel Description:\\n{fn_desc}\")\n",
    "\n",
    "# Query the function with a specific input\n",
    "query_response = await aquery(\n",
    "    fn_name=fn_name,\n",
    "    fn_input=\"I want to train a model to predict house prices using the Boston Housing dataset hosted on Kaggle.\",\n",
    ")\n",
    "for key, value in query_response.items(): print(f\"{key}: {value}\")"
   ]
  },
  {
   "cell_type": "markdown",
   "metadata": {},
   "source": [
    "## Happy Building $f$(👷‍♂️)!"
   ]
  }
 ],
 "metadata": {
  "kernelspec": {
   "display_name": "weco",
   "language": "python",
   "name": "python3"
  },
  "language_info": {
   "codemirror_mode": {
    "name": "ipython",
    "version": 3
   },
   "file_extension": ".py",
   "mimetype": "text/x-python",
   "name": "python",
   "nbconvert_exporter": "python",
   "pygments_lexer": "ipython3",
   "version": "3.10.14"
  }
 },
 "nbformat": 4,
 "nbformat_minor": 2
}
